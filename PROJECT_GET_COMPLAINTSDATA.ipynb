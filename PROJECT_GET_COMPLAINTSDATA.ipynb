{
 "cells": [
  {
   "cell_type": "code",
   "execution_count": null,
   "metadata": {},
   "outputs": [],
   "source": [
    "pip install geopy\n",
    "pip install sodapy"
   ]
  },
  {
   "cell_type": "code",
   "execution_count": null,
   "metadata": {},
   "outputs": [],
   "source": [
    "import numpy as np\n",
    "import pandas as pd\n",
    "from sodapy import Socrata\n",
    "from geopy.geocoders import Nominatim # get address from latitude and longitude\n"
   ]
  },
  {
   "cell_type": "code",
   "execution_count": null,
   "metadata": {},
   "outputs": [],
   "source": [
    "geolocator = Nominatim(user_agent=\"geoapiExercises\")"
   ]
  },
  {
   "cell_type": "code",
   "execution_count": null,
   "metadata": {},
   "outputs": [],
   "source": [
    "# Latitude & Longitude input\n",
    "Latitude = \"40.657155659261235\"\n",
    "Longitude = \"-73.90639382159875\"\n",
    " \n",
    "location = geolocator.reverse(Latitude+\",\"+Longitude)\n",
    " \n",
    "# Display\n",
    "print(location)"
   ]
  },
  {
   "cell_type": "markdown",
   "metadata": {},
   "source": [
    "# Using sodaypy library"
   ]
  },
  {
   "cell_type": "code",
   "execution_count": null,
   "metadata": {},
   "outputs": [],
   "source": [
    "# Source: https://holowczak.com/getting-started-with-nyc-opendata-and-the-socrata-api/5/\n",
    "# https://data.cityofnewyork.us/resource/qgea-i56i.json\n",
    "\n",
    "data_url='data.cityofnewyork.us'    # The Host Name for the API endpoint (the https:// part will be added automatically)\n",
    "data_set='qgea-i56i'    # The data set at the API endpoint (complaints data in this case)\n",
    "app_token='insert_your_token_here'   # The app token created in the prior steps\n",
    "client = Socrata(data_url,app_token)      # Create the client to point to the API endpoint\n",
    "\n",
    "# Retrieve the results returned as JSON object from the API\n",
    "# The SoDaPy library converts this JSON object to a Python list of dictionaries\n",
    "results = client.get(data_set, where=\"CMPLNT_FR_DT > '2016-12-31T00:00:00.000' AND CMPLNT_FR_DT < '2018-01-01T00:00:00.000'\", limit=600000)\n",
    "\n",
    "# Convert the list of dictionaries to a Pandas data frame\n",
    "df = pd.DataFrame.from_records(results)\n",
    "\n",
    "# Save the data frame to a CSV file\n",
    "df.to_csv(r\"data/complaints_data_2017.csv\")"
   ]
  },
  {
   "cell_type": "code",
   "execution_count": null,
   "metadata": {},
   "outputs": [],
   "source": [
    "x_2015 = pd.read_csv (r'data/complaints_data_2015.csv')\n",
    "x_2016 = pd.read_csv (r'data/complaints_data_2016.csv')\n",
    "x_2017 = pd.read_csv (r'data/complaints_data_2017.csv')"
   ]
  },
  {
   "cell_type": "code",
   "execution_count": null,
   "metadata": {},
   "outputs": [],
   "source": [
    "frames = [x_2015.sample(n=5000),x_2016.sample(n=5000),x_2017.sample(n=5000)]\n",
    "complaints = pd.concat(frames)\n",
    "complaints.to_csv(r\"data/complaints_data.csv\")"
   ]
  },
  {
   "cell_type": "markdown",
   "metadata": {},
   "source": [
    "# Using geopy library"
   ]
  },
  {
   "cell_type": "code",
   "execution_count": null,
   "metadata": {},
   "outputs": [],
   "source": [
    "# Function to get zipcodes from latitude and longitude:\n",
    "\n",
    "def get_zipcode(row):\n",
    "    location = geolocator.reverse(row.Latitude+\",\"+row.Longitude)\n",
    "    return location.raw['address']['postcode']"
   ]
  },
  {
   "cell_type": "code",
   "execution_count": null,
   "metadata": {},
   "outputs": [],
   "source": []
  },
  {
   "cell_type": "code",
   "execution_count": null,
   "metadata": {},
   "outputs": [],
   "source": []
  }
 ],
 "metadata": {
  "kernelspec": {
   "display_name": "Python 3",
   "language": "python",
   "name": "python3"
  },
  "language_info": {
   "codemirror_mode": {
    "name": "ipython",
    "version": 3
   },
   "file_extension": ".py",
   "mimetype": "text/x-python",
   "name": "python",
   "nbconvert_exporter": "python",
   "pygments_lexer": "ipython3",
   "version": "3.8.5"
  }
 },
 "nbformat": 4,
 "nbformat_minor": 4
}
